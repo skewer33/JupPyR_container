{
 "cells": [
  {
   "cell_type": "code",
   "execution_count": 6,
   "id": "83892417-226f-468d-8656-b454f7bf1f66",
   "metadata": {},
   "outputs": [],
   "source": [
    "import subprocess\n",
    "import os\n",
    "import sys"
   ]
  },
  {
   "cell_type": "markdown",
   "id": "180bb2a6-5c9a-4f55-8edd-8d33c95a6a90",
   "metadata": {},
   "source": [
    "## Run Rscript"
   ]
  },
  {
   "cell_type": "code",
   "execution_count": 8,
   "id": "5f37e15b-e314-40cb-bef2-b21fada085ee",
   "metadata": {},
   "outputs": [],
   "source": [
    "def run_RScript(rscript_path='test.R'):\n",
    "    \n",
    "    if not os.path.exists(rscript_path):\n",
    "        raise FileNotFoundError(f\"R script {rscript_path} not found.\")\n",
    "\n",
    "    # Формируем команду\n",
    "    cmd = [\n",
    "        \"Rscript\",\n",
    "        rscript_path\n",
    "    ]\n",
    "    # Запускаем R-скрипт\n",
    "    result = subprocess.run(cmd, capture_output=True, text=True)\n",
    "    if result.returncode != 0:\n",
    "        print(\"R error:\", result.stderr)\n",
    "        raise RuntimeError(\"Ошибка выполнения R-скрипта limma\")\n",
    "    return result.stdout"
   ]
  },
  {
   "cell_type": "code",
   "execution_count": 14,
   "id": "72e90903-3333-4a96-afd7-f3d22bd41a53",
   "metadata": {},
   "outputs": [
    {
     "name": "stdout",
     "output_type": "stream",
     "text": [
      "[1] \"hello from RScript\"\n",
      "[1] \"R version 4.5.1 (2025-06-13)\"\n",
      "[1] \"Matrix multiplication of vectors:\"\n",
      "     [,1]\n",
      "[1,]    1\n",
      "[2,]    2\n",
      "[3,]    3\n",
      "[4,]    4\n",
      "     [,1] [,2] [,3] [,4]\n",
      "[1,]    2    2    3    4\n",
      "[1] \"Result\"\n",
      "     [,1] [,2] [,3] [,4]\n",
      "[1,]    2    2    3    4\n",
      "[2,]    4    4    6    8\n",
      "[3,]    6    6    9   12\n",
      "[4,]    8    8   12   16\n"
     ]
    }
   ],
   "source": [
    "r_out = run_RScript()\n",
    "r_out = r_out.rstrip('\\n').split('\\n')\n",
    "for line in r_out:\n",
    "    print(line)"
   ]
  },
  {
   "cell_type": "markdown",
   "id": "d0f7fc3b-2061-4939-a85a-f487122a9aac",
   "metadata": {},
   "source": [
    "## Run python script"
   ]
  },
  {
   "cell_type": "code",
   "execution_count": 4,
   "id": "1a8c5be9-5e4d-477c-8fee-c1deee3af6ae",
   "metadata": {},
   "outputs": [],
   "source": [
    "from testfile import fib_calc"
   ]
  },
  {
   "cell_type": "code",
   "execution_count": 7,
   "id": "2cea912f-3371-4055-96e6-2c9b85fb0cb9",
   "metadata": {},
   "outputs": [
    {
     "name": "stdout",
     "output_type": "stream",
     "text": [
      "3.12.11 | packaged by conda-forge | (main, Jun  4 2025, 14:45:31) [GCC 13.3.0]\n"
     ]
    }
   ],
   "source": [
    "print(sys.version)"
   ]
  },
  {
   "cell_type": "code",
   "execution_count": 5,
   "id": "000fc072-a634-43de-a4fe-943c39a7ee64",
   "metadata": {},
   "outputs": [
    {
     "name": "stdout",
     "output_type": "stream",
     "text": [
      "hello from Python\n",
      "1 1 2 3 5 8 13 21 34 55 "
     ]
    }
   ],
   "source": [
    "fib_calc(10)"
   ]
  }
 ],
 "metadata": {
  "kernelspec": {
   "display_name": "Python 3 (ipykernel)",
   "language": "python",
   "name": "python3"
  },
  "language_info": {
   "codemirror_mode": {
    "name": "ipython",
    "version": 3
   },
   "file_extension": ".py",
   "mimetype": "text/x-python",
   "name": "python",
   "nbconvert_exporter": "python",
   "pygments_lexer": "ipython3",
   "version": "3.12.11"
  }
 },
 "nbformat": 4,
 "nbformat_minor": 5
}
